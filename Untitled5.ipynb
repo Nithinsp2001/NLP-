{
  "nbformat": 4,
  "nbformat_minor": 0,
  "metadata": {
    "colab": {
      "provenance": [],
      "authorship_tag": "ABX9TyPUsAhMJhlkHw2JQGsmzH7k",
      "include_colab_link": true
    },
    "kernelspec": {
      "name": "python3",
      "display_name": "Python 3"
    },
    "language_info": {
      "name": "python"
    }
  },
  "cells": [
    {
      "cell_type": "markdown",
      "metadata": {
        "id": "view-in-github",
        "colab_type": "text"
      },
      "source": [
        "<a href=\"https://colab.research.google.com/github/Nithinsp2001/NLP-/blob/main/Untitled5.ipynb\" target=\"_parent\"><img src=\"https://colab.research.google.com/assets/colab-badge.svg\" alt=\"Open In Colab\"/></a>"
      ]
    },
    {
      "cell_type": "code",
      "execution_count": 21,
      "metadata": {
        "colab": {
          "base_uri": "https://localhost:8080/"
        },
        "id": "QpXEO1hYMenL",
        "outputId": "640735ae-faed-47de-f00b-128da343dcdd"
      },
      "outputs": [
        {
          "output_type": "stream",
          "name": "stdout",
          "text": [
            "Tokens: ['The', 'quick', 'brown', 'fox', 'jumps', 'over', 'the', 'lazy', 'dog']\n",
            "Tokens: ['Hi', 'Swetha', 'How', 'are', 'you', 'doing', 'today', 'Let', 's', 'meet', 'at', '5', '00pm']\n"
          ]
        }
      ],
      "source": [
        "from nltk.tokenize import regexp_tokenize\n",
        "\n",
        "# Original sentence\n",
        "sentence = \"The quick brown fox jumps over the lazy dog!\"\n",
        "tokens = regexp_tokenize(sentence, pattern=r\"\\w+\")\n",
        "print(\"Tokens:\", tokens)\n",
        "\n",
        "# Own Sentence\n",
        "sentence2 = \"Hi Swetha! How are you doing today? Let's meet at 5:00pm.\"\n",
        "tokens2 = regexp_tokenize(sentence2, pattern=r\"\\w+\")\n",
        "print(\"Tokens:\", tokens2)"
      ]
    },
    {
      "cell_type": "code",
      "source": [
        "import nltk\n",
        "nltk.download('punkt')\n",
        "nltk.download('stopwords')\n",
        "nltk.download('punkt_tab')\n",
        "\n",
        "from nltk.tokenize import word_tokenize\n",
        "from nltk.corpus import stopwords\n",
        "\n",
        "stop_words = set(stopwords.words('english'))\n",
        "\n",
        "# Example sentence\n",
        "sentence = \"ChatGPT helps students learn NLP concepts quickly!\"\n",
        "tokens = word_tokenize(sentence)\n",
        "filtered_tokens = [word for word in tokens if word.lower() not in stop_words]\n",
        "print(\"Filtered tokens:\", filtered_tokens)\n",
        "\n",
        "#Own Sentence\n",
        "sentence2 = \"The weather today is surprisingly warm and sunny.\"\n",
        "tokens2 = word_tokenize(sentence2)\n",
        "filtered_tokens2 = [word for word in tokens2 if word.lower() not in stop_words]\n",
        "print(\"Filtered tokens:\", filtered_tokens2)"
      ],
      "metadata": {
        "colab": {
          "base_uri": "https://localhost:8080/"
        },
        "id": "WHEnn4MnNeCp",
        "outputId": "27329af3-e3a3-448e-e00a-bdebe24a11a2"
      },
      "execution_count": 11,
      "outputs": [
        {
          "output_type": "stream",
          "name": "stdout",
          "text": [
            "Filtered tokens: ['ChatGPT', 'helps', 'students', 'learn', 'NLP', 'concepts', 'quickly', '!']\n",
            "Filtered tokens: ['weather', 'today', 'surprisingly', 'warm', 'sunny', '.']\n"
          ]
        },
        {
          "output_type": "stream",
          "name": "stderr",
          "text": [
            "[nltk_data] Downloading package punkt to /root/nltk_data...\n",
            "[nltk_data]   Package punkt is already up-to-date!\n",
            "[nltk_data] Downloading package stopwords to /root/nltk_data...\n",
            "[nltk_data]   Package stopwords is already up-to-date!\n"
          ]
        }
      ]
    },
    {
      "cell_type": "code",
      "source": [
        "from nltk.stem import PorterStemmer, WordNetLemmatizer\n",
        "import nltk\n",
        "\n",
        "nltk.download('wordnet')\n",
        "\n",
        "stemmer = PorterStemmer()\n",
        "lemmatizer = WordNetLemmatizer()\n",
        "\n",
        "words = [\"running\", \"flies\", \"better\", \"happily\"]\n",
        "print(\"Stemming:\", [stemmer.stem(word) for word in words])\n",
        "print(\"Lemmatization:\", [lemmatizer.lemmatize(word, pos='v') for word in words])\n",
        "\n",
        "# Own Sentence\n",
        "additional_verbs = [\"jumps\", \"eating\", \"went\"]\n",
        "all_verbs = words + additional_verbs\n",
        "\n",
        "print(\"Stemming:\", [stemmer.stem(word) for word in all_verbs])\n",
        "print(\"Lemmatization:\", [lemmatizer.lemmatize(word, pos='v') for word in all_verbs])"
      ],
      "metadata": {
        "colab": {
          "base_uri": "https://localhost:8080/"
        },
        "id": "WwNkzMb3Ob59",
        "outputId": "dc33ea91-c0e9-44d9-d76a-401d2ac6a610"
      },
      "execution_count": 13,
      "outputs": [
        {
          "output_type": "stream",
          "name": "stdout",
          "text": [
            "Stemming: ['run', 'fli', 'better', 'happili']\n",
            "Lemmatization: ['run', 'fly', 'better', 'happily']\n",
            "Stemming: ['run', 'fli', 'better', 'happili', 'jump', 'eat', 'went']\n",
            "Lemmatization: ['run', 'fly', 'better', 'happily', 'jump', 'eat', 'go']\n"
          ]
        },
        {
          "output_type": "stream",
          "name": "stderr",
          "text": [
            "[nltk_data] Downloading package wordnet to /root/nltk_data...\n",
            "[nltk_data]   Package wordnet is already up-to-date!\n"
          ]
        }
      ]
    },
    {
      "cell_type": "code",
      "source": [
        "from nltk import pos_tag\n",
        "from nltk.tokenize import word_tokenize\n",
        "import nltk\n",
        "\n",
        "nltk.download('averaged_perceptron_tagger_eng')\n",
        "\n",
        "sentence = \"Natural language processing enables machines to understand human speech.\"\n",
        "tokens = word_tokenize(sentence)\n",
        "tagged = pos_tag(tokens)\n",
        "print(\"POS Tags:\", tagged)\n",
        "\n",
        "# Own Sentence\n",
        "ambiguous_sentence = \"I will book a flight tomorrow.\"\n",
        "tokens = word_tokenize(ambiguous_sentence)\n",
        "tagged = pos_tag(tokens)\n",
        "print(\"POS Tags:\", tagged)"
      ],
      "metadata": {
        "colab": {
          "base_uri": "https://localhost:8080/"
        },
        "id": "2YBoShRgPSEh",
        "outputId": "4b54ccdf-a0db-4ac4-be67-2cac2a88f007"
      },
      "execution_count": 16,
      "outputs": [
        {
          "output_type": "stream",
          "name": "stdout",
          "text": [
            "POS Tags: [('Natural', 'JJ'), ('language', 'NN'), ('processing', 'NN'), ('enables', 'VBZ'), ('machines', 'NNS'), ('to', 'TO'), ('understand', 'VB'), ('human', 'JJ'), ('speech', 'NN'), ('.', '.')]\n",
            "POS Tags: [('I', 'PRP'), ('will', 'MD'), ('book', 'NN'), ('a', 'DT'), ('flight', 'NN'), ('tomorrow', 'NN'), ('.', '.')]\n"
          ]
        },
        {
          "output_type": "stream",
          "name": "stderr",
          "text": [
            "[nltk_data] Downloading package averaged_perceptron_tagger_eng to\n",
            "[nltk_data]     /root/nltk_data...\n",
            "[nltk_data]   Package averaged_perceptron_tagger_eng is already up-to-\n",
            "[nltk_data]       date!\n"
          ]
        }
      ]
    },
    {
      "cell_type": "code",
      "source": [
        "import spacy\n",
        "\n",
        "nlp = spacy.load(\"en_core_web_sm\")\n",
        "sentence = \"Elon Musk founded SpaceX in California and now lives in Texas.\"\n",
        "doc = nlp(sentence)\n",
        "\n",
        "for ent in doc.ents:\n",
        "    print(ent.text, ent.label_)\n",
        "\n",
        "\n",
        "\n",
        "    # oWn Sentence\n",
        "    sentence2 = \"Apple announced a new product worth $1 billion on September 20, 2023.\"\n",
        "doc2 = nlp(sentence2)\n",
        "\n",
        "for ent in doc2.ents:\n",
        "    print(ent.text, ent.label_)"
      ],
      "metadata": {
        "colab": {
          "base_uri": "https://localhost:8080/"
        },
        "id": "tK0OjUspPszb",
        "outputId": "35f969a7-f549-42ff-949a-f6516973f317"
      },
      "execution_count": 20,
      "outputs": [
        {
          "output_type": "stream",
          "name": "stdout",
          "text": [
            "Elon Musk PERSON\n",
            "California GPE\n",
            "Texas GPE\n",
            "Apple ORG\n",
            "$1 billion MONEY\n",
            "September 20, 2023 DATE\n"
          ]
        }
      ]
    }
  ]
}